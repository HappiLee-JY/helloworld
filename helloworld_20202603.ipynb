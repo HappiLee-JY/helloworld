{
  "nbformat": 4,
  "nbformat_minor": 0,
  "metadata": {
    "colab": {
      "name": "helloworld_20202603.ipynb",
      "provenance": [],
      "authorship_tag": "ABX9TyPZUOjNevQwxyBCBX8ek9Hr",
      "include_colab_link": true
    },
    "kernelspec": {
      "name": "python3",
      "display_name": "Python 3"
    }
  },
  "cells": [
    {
      "cell_type": "markdown",
      "metadata": {
        "id": "view-in-github",
        "colab_type": "text"
      },
      "source": [
        "<a href=\"https://colab.research.google.com/github/HappiLee-JY/helloworld/blob/main/helloworld_20202603.ipynb\" target=\"_parent\"><img src=\"https://colab.research.google.com/assets/colab-badge.svg\" alt=\"Open In Colab\"/></a>"
      ]
    },
    {
      "cell_type": "code",
      "metadata": {
        "id": "4Lgm7779H031",
        "outputId": "bba60a17-d5c5-48cf-da7b-8e6f4883121d",
        "colab": {
          "base_uri": "https://localhost:8080/",
          "height": 36
        }
      },
      "source": [
        "print('helloworld',20202603)"
      ],
      "execution_count": 3,
      "outputs": [
        {
          "output_type": "stream",
          "text": [
            "helloworld 20202603\n"
          ],
          "name": "stdout"
        }
      ]
    }
  ]
}